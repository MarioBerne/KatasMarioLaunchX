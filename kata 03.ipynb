{
 "cells": [
  {
   "cell_type": "code",
   "execution_count": 2,
   "metadata": {},
   "outputs": [
    {
     "name": "stdout",
     "output_type": "stream",
     "text": [
      "La velocidad limite se ha excedido\n"
     ]
    }
   ],
   "source": [
    "asteroide= 49\n",
    "velocidadlimite= 25\n",
    "if asteroide>= velocidadlimite:\n",
    "    print(\"La velocidad limite se ha excedido\")"
   ]
  },
  {
   "cell_type": "code",
   "execution_count": 4,
   "metadata": {},
   "outputs": [
    {
     "name": "stdout",
     "output_type": "stream",
     "text": [
      "no se verá ninguna luz\n"
     ]
    }
   ],
   "source": [
    "asteroidedos=19\n",
    "velocidadrayo=20\n",
    "if asteroidedos >= velocidadrayo:\n",
    "    print(\"Un rayo de luz se observará desde la Tierra\")\n",
    "elif asteroidedos<velocidadrayo:\n",
    "    print(\"no se verá ninguna luz\")\n"
   ]
  },
  {
   "cell_type": "code",
   "execution_count": 5,
   "metadata": {},
   "outputs": [
    {
     "name": "stdout",
     "output_type": "stream",
     "text": [
      "Una luz se verá en el cielo\n"
     ]
    }
   ],
   "source": [
    "velocidadasteroide=25\n",
    "tamanoasteroide=40\n",
    "if velocidadasteroide>25 and tamanoasteroide>25:\n",
    "    print(\"Cuidado un asteroide causara daño a la Tierra\")\n",
    "elif velocidadasteroide>=20:\n",
    "    print(\"Una luz se verá en el cielo\")\n",
    "elif tamanoasteroide<25:\n",
    "    print(\"todo bien\")\n",
    "else :\n",
    "    print(\"nada acontecera\")"
   ]
  }
 ],
 "metadata": {
  "interpreter": {
   "hash": "ee258fb225bfc2eb24c2bf36d1bd4cecff57cf57a7486586985508b64f5bc133"
  },
  "kernelspec": {
   "display_name": "Python 3.10.2 64-bit",
   "language": "python",
   "name": "python3"
  },
  "language_info": {
   "codemirror_mode": {
    "name": "ipython",
    "version": 3
   },
   "file_extension": ".py",
   "mimetype": "text/x-python",
   "name": "python",
   "nbconvert_exporter": "python",
   "pygments_lexer": "ipython3",
   "version": "3.10.2"
  },
  "orig_nbformat": 4
 },
 "nbformat": 4,
 "nbformat_minor": 2
}
